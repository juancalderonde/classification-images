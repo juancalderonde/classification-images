{
 "cells": [
  {
   "metadata": {},
   "cell_type": "markdown",
   "source": "# CLASIFICACION IMAGENES",
   "id": "8f7d801488d1610f"
  },
  {
   "metadata": {},
   "cell_type": "markdown",
   "source": "## CAPITULO I. Cargue y transformación de las imagenes",
   "id": "d9d19c5aad04d8d4"
  },
  {
   "metadata": {
    "ExecuteTime": {
     "end_time": "2024-08-17T01:15:00.698460Z",
     "start_time": "2024-08-17T01:14:58.665396Z"
    }
   },
   "cell_type": "code",
   "source": [
    "import torchvision.transforms as transforms\n",
    "import numpy as np\n",
    "\n",
    "from sklearn.metrics import confusion_matrix\n",
    "from torchvision.datasets import ImageFolder\n",
    "from torch.utils.data import DataLoader, random_split\n",
    "\n",
    "import torch"
   ],
   "id": "b86663df53899469",
   "outputs": [],
   "execution_count": 51
  },
  {
   "metadata": {
    "ExecuteTime": {
     "end_time": "2024-08-17T01:34:38.715898Z",
     "start_time": "2024-08-17T01:34:38.710354Z"
    }
   },
   "cell_type": "code",
   "source": [
    "pipeline = transforms.Compose([\n",
    "    transforms.Grayscale(num_output_channels= 1),   #las imagenes se pasan a escala de grises a 1 solo canal es decir blanco y negro\n",
    "    transforms.Resize((400, 200)),                  #se usa un tamaño un poco mas grande de lo habitual para tratar de facilitar la deteccion de las palabras\n",
    "    transforms.RandomHorizontalFlip(),              #se realiza un traslado horizontal\n",
    "    transforms.RandomRotation(45),                   #rotacion de 45 grados\n",
    "    transforms.ToTensor(),\n",
    "    transforms.Normalize((0.5,),(0.5,))             #normaliza la serie de datos con media 0 y varianza 1\n",
    "])\n",
    "\n",
    "pipelineValidacion = transforms.Compose([\n",
    "    transforms.Grayscale(num_output_channels= 1),   \n",
    "    transforms.Resize((400, 200)),                    \n",
    "    transforms.ToTensor(),\n",
    "    transforms.Normalize((0.5,),(0.5,))\n",
    "])\n",
    "\n",
    "baseImagenes = ImageFolder(root=\"./Imagenes\", transform=pipeline)\n",
    "baseImagenesValidacion = ImageFolder(root=\"./Imagenes_validacion\", transform=pipelineValidacion)"
   ],
   "id": "c2c0c353bd9840bb",
   "outputs": [],
   "execution_count": 61
  },
  {
   "metadata": {
    "ExecuteTime": {
     "end_time": "2024-08-17T01:34:39.505527Z",
     "start_time": "2024-08-17T01:34:39.495153Z"
    }
   },
   "cell_type": "code",
   "source": [
    "tamanoEntrenamiento = int(0.8 * len(baseImagenes))\n",
    "tamanoTesteo = len(baseImagenes) - tamanoEntrenamiento\n",
    "\n",
    "baseEntrenamiento, baseTesteo = random_split(baseImagenes, [tamanoEntrenamiento, tamanoTesteo])\n",
    "\n",
    "cargueEntrenammiento = DataLoader(baseEntrenamiento, batch_size=30, shuffle=True)\n",
    "cargueTesteo = DataLoader(baseTesteo, batch_size=30, shuffle=False)\n",
    "cargueValidacion = DataLoader(baseImagenesValidacion, batch_size=30, shuffle=False)\n"
   ],
   "id": "c12d5cddb7fdd8ce",
   "outputs": [],
   "execution_count": 62
  },
  {
   "metadata": {
    "ExecuteTime": {
     "end_time": "2024-08-17T00:39:26.010089Z",
     "start_time": "2024-08-17T00:39:25.994838Z"
    }
   },
   "cell_type": "code",
   "source": [
    "class redNeuronal(torch.nn.Module):\n",
    "    def __init__(self, clases):\n",
    "        super().__init__()\n",
    "        self.feature_extractor = torch.nn.Sequential(\n",
    "            torch.nn.Conv2d(1, 32, kernel_size=3, padding=1), #Entran imagenes a 1 canal se aplican 32 filtros de tamaño 3x3 \n",
    "            torch.nn.ELU(),                                   #funcion de activacion exponencial\n",
    "            torch.nn.MaxPool2d(kernel_size=2),                #reduce la dimensionalidad en 2 para mayor eficiencia\n",
    "            torch.nn.Conv2d(32, 128, kernel_size=3, padding=1), \n",
    "            torch.nn.ELU(),\n",
    "            torch.nn.MaxPool2d(kernel_size=2),\n",
    "            torch.nn.Flatten(),                               #salida de la red \n",
    "        )\n",
    "        self.classifier = torch.nn.Linear(128 * 100 * 50, clases)\n",
    "    \n",
    "    def forward(self, x):  \n",
    "        x = self.feature_extractor(x)                   #pasa el input por las capas\n",
    "        x = self.classifier(x)                          #realiza la clasificacion\n",
    "        return x"
   ],
   "id": "bd229394e00491c3",
   "outputs": [],
   "execution_count": 5
  },
  {
   "metadata": {},
   "cell_type": "markdown",
   "source": "",
   "id": "2169efc093a9ee25"
  },
  {
   "metadata": {
    "ExecuteTime": {
     "end_time": "2024-08-17T00:41:02.145730Z",
     "start_time": "2024-08-17T00:39:28.376146Z"
    }
   },
   "cell_type": "code",
   "source": [
    "modelo = redNeuronal(clases=2)\n",
    "criterio = torch.nn.CrossEntropyLoss()\n",
    "optimizador = torch.optim.Adam(modelo.parameters(), lr=0.001)\n",
    "\n",
    "epochs = 10\n",
    "dispositivo = torch.device(\"cuda\" if torch.cuda.is_available() else \"cpu\")\n",
    "modelo.to(dispositivo)\n",
    "\n",
    "for epoch in range(epochs):\n",
    "    modelo.train()\n",
    "    perdidaEpoch = 0\n",
    "    for imagenes, etiquetas in cargueEntrenammiento:\n",
    "        imagenes, etiquetas = imagenes.to(dispositivo), etiquetas.to(dispositivo)\n",
    "        optimizador.zero_grad()\n",
    "        resultados = modelo(imagenes)\n",
    "        perdida = criterio(resultados, etiquetas)\n",
    "        perdida.backward()\n",
    "        optimizador.step()\n",
    "        \n",
    "        perdidaEpoch += perdida.item()\n",
    "    print(f\"Epoch {epoch+1}/{epochs}, perdida: {perdidaEpoch/len(cargueEntrenammiento):.4f}\")\n",
    "\n",
    "print(\"Entrenamiento completado\")\n"
   ],
   "id": "c9812d370741d9e4",
   "outputs": [
    {
     "name": "stdout",
     "output_type": "stream",
     "text": [
      "Epoch 1/10, perdida: 34.1367\n",
      "Epoch 2/10, perdida: 9.4573\n",
      "Epoch 3/10, perdida: 5.0476\n",
      "Epoch 4/10, perdida: 3.4368\n",
      "Epoch 5/10, perdida: 2.8265\n",
      "Epoch 6/10, perdida: 0.8697\n",
      "Epoch 7/10, perdida: 0.4995\n",
      "Epoch 8/10, perdida: 2.1170\n",
      "Epoch 9/10, perdida: 1.5993\n",
      "Epoch 10/10, perdida: 1.7419\n",
      "Entrenamiento completado\n"
     ]
    }
   ],
   "execution_count": 6
  },
  {
   "metadata": {
    "ExecuteTime": {
     "end_time": "2024-08-17T01:33:51.905101Z",
     "start_time": "2024-08-17T01:33:51.900986Z"
    }
   },
   "cell_type": "code",
   "source": [
    "def validarImagenes(modelo, setImagenes):\n",
    "    modelo.eval() \n",
    "    pred = []\n",
    "    real = []\n",
    "    with torch.no_grad():\n",
    "        for imagenes, etiquetas in setImagenes:\n",
    "            imagenes, etiquetas = imagenes.to(dispositivo), etiquetas.to(dispositivo)\n",
    "            resultados = modelo(imagenes)\n",
    "            _, prediccion = torch.max(resultados, 1)\n",
    "            pred.extend(prediccion.tolist())\n",
    "            real.extend(etiquetas.tolist())\n",
    "    \n",
    "    pred = np.array(pred).reshape(-1,)\n",
    "    real = np.array(real).reshape(-1,)\n",
    "    return confusion_matrix(real, pred)\n"
   ],
   "id": "44dde2ec85dcf8a",
   "outputs": [],
   "execution_count": 55
  },
  {
   "metadata": {
    "ExecuteTime": {
     "end_time": "2024-08-17T01:34:13.716834Z",
     "start_time": "2024-08-17T01:34:11.030038Z"
    }
   },
   "cell_type": "code",
   "source": [
    "#Testeo\n",
    "matrizConfusionTesteo = validarImagenes(modelo, cargueTesteo)\n",
    "print(matrizConfusionTesteo)"
   ],
   "id": "5cddb24f4673c8e8",
   "outputs": [
    {
     "name": "stdout",
     "output_type": "stream",
     "text": [
      "[[30  5]\n",
      " [ 0 15]]\n"
     ]
    }
   ],
   "execution_count": 58
  },
  {
   "metadata": {
    "ExecuteTime": {
     "end_time": "2024-08-17T01:34:49.985427Z",
     "start_time": "2024-08-17T01:34:49.887304Z"
    }
   },
   "cell_type": "code",
   "source": [
    "#validacion\n",
    "matrizConfusionValidacion = validarImagenes(modelo, cargueValidacion)\n",
    "print(matrizConfusionValidacion)"
   ],
   "id": "2f7ee2b140ad8da8",
   "outputs": [
    {
     "name": "stdout",
     "output_type": "stream",
     "text": [
      "[[1 0]\n",
      " [0 2]]\n"
     ]
    }
   ],
   "execution_count": 64
  },
  {
   "metadata": {
    "ExecuteTime": {
     "end_time": "2024-08-17T01:00:16.387177Z",
     "start_time": "2024-08-17T01:00:16.374324Z"
    }
   },
   "cell_type": "code",
   "source": "",
   "id": "f0c8e31677b66aea",
   "outputs": [
    {
     "data": {
      "text/plain": [
       "50"
      ]
     },
     "execution_count": 25,
     "metadata": {},
     "output_type": "execute_result"
    }
   ],
   "execution_count": 25
  }
 ],
 "metadata": {
  "kernelspec": {
   "display_name": "Python 3",
   "language": "python",
   "name": "python3"
  },
  "language_info": {
   "codemirror_mode": {
    "name": "ipython",
    "version": 2
   },
   "file_extension": ".py",
   "mimetype": "text/x-python",
   "name": "python",
   "nbconvert_exporter": "python",
   "pygments_lexer": "ipython2",
   "version": "2.7.6"
  }
 },
 "nbformat": 4,
 "nbformat_minor": 5
}
