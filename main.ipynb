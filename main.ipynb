{
 "cells": [
  {
   "metadata": {},
   "cell_type": "markdown",
   "source": "# CLASIFICACION IMAGENES",
   "id": "8f7d801488d1610f"
  },
  {
   "metadata": {},
   "cell_type": "markdown",
   "source": "## CAPITULO I. Cargue y transformación de las imagenes",
   "id": "d9d19c5aad04d8d4"
  },
  {
   "metadata": {
    "ExecuteTime": {
     "end_time": "2024-08-16T04:41:38.969651Z",
     "start_time": "2024-08-16T04:41:33.752250Z"
    }
   },
   "cell_type": "code",
   "source": [
    "import torchvision.transforms as transforms\n",
    "import torch.nn as nn\n",
    "\n",
    "from torchvision.datasets import ImageFolder\n",
    "from torch.utils.data import DataLoader, random_split\n"
   ],
   "id": "b86663df53899469",
   "outputs": [],
   "execution_count": 1
  },
  {
   "metadata": {
    "ExecuteTime": {
     "end_time": "2024-08-16T04:43:01.048078Z",
     "start_time": "2024-08-16T04:43:01.039648Z"
    }
   },
   "cell_type": "code",
   "source": [
    "pipeline = transforms.Compose([\n",
    "    transforms.Grayscale(num_output_channels= 1),   #las imagenes se pasan a escala de grises a 1 solo canal es decir blanco y negro\n",
    "    transforms.Resize((400, 200)),                  #se usa un tamaño un poco mas grande de lo habitual para tratar de facilitar la deteccion de las palabras\n",
    "    transforms.RandomHorizontalFlip(),              #se realiza un traslado horizontal\n",
    "    transforms.RandomRotation(45),                   #rotacion de 45 grados\n",
    "    transforms.ToTensor(),\n",
    "    transforms.Normalize((0.5,),(0.5,))             #normaliza la serie de datos con media 0 y varianza 1\n",
    "])\n",
    "\n",
    "baseImagenes = ImageFolder(root=\"./Imagenes\", transform=transforms)"
   ],
   "id": "c2c0c353bd9840bb",
   "outputs": [],
   "execution_count": 3
  },
  {
   "metadata": {},
   "cell_type": "code",
   "outputs": [],
   "execution_count": null,
   "source": [
    "tamanoEntrenamiento = int(0.8 * len(baseImagenes))\n",
    "tamanoTesteo = len(baseImagenes) - tamanoEntrenamiento\n",
    "\n",
    "baseEntrenamiento, baseTesteo = random_split(baseImagenes, [tamanoEntrenamiento, tamanoTesteo])\n",
    "\n",
    "cargueEntrenammiento = DataLoader(baseEntrenamiento, batch_size=30, shuffle=True)\n",
    "cargueTesteo = DataLoader(baseTesteo, batch_size=30, shuffle=False)"
   ],
   "id": "c12d5cddb7fdd8ce"
  },
  {
   "metadata": {},
   "cell_type": "code",
   "outputs": [],
   "execution_count": null,
   "source": [
    "class redNeuronal(nn.Module):\n",
    "    def __init__(self, clases):\n",
    "        super().__init__()\n",
    "        self.feature_extractor = nn.Sequential(\n",
    "            nn.Conv2d(1, 32, kernel_size=3, padding=1), #Entran imagenes a 1 canal se aplican 32 filtros de tamaño 3x3 \n",
    "            nn.ELU(),                                   #funcion de activacion exponencial\n",
    "            nn.MaxPool2d(kernel_size=2),                #reduce la dimensionalidad en 2 para mayor eficiencia\n",
    "            nn.Conv2d(32, 128, kernel_size=3, padding=1), \n",
    "            nn.ELU(),\n",
    "            nn.MaxPool2d(kernel_size=2),\n",
    "            nn.Flatten(),                               #salida de la red \n",
    "        )\n",
    "        self.classifier = nn.Linear(128 * 32 * 32, clases)\n",
    "    \n",
    "    def forward(self, x):  \n",
    "        x = self.feature_extractor(x)                   #pasa el input por las capas\n",
    "        x = self.classifier(x)                          #realiza la clasificacion\n",
    "        return x"
   ],
   "id": "bd229394e00491c3"
  }
 ],
 "metadata": {
  "kernelspec": {
   "display_name": "Python 3",
   "language": "python",
   "name": "python3"
  },
  "language_info": {
   "codemirror_mode": {
    "name": "ipython",
    "version": 2
   },
   "file_extension": ".py",
   "mimetype": "text/x-python",
   "name": "python",
   "nbconvert_exporter": "python",
   "pygments_lexer": "ipython2",
   "version": "2.7.6"
  }
 },
 "nbformat": 4,
 "nbformat_minor": 5
}
